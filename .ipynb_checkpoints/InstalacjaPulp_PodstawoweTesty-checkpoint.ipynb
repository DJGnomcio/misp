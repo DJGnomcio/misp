{
 "cells": [
  {
   "cell_type": "code",
   "execution_count": 7,
   "metadata": {},
   "outputs": [
    {
     "name": "stdout",
     "output_type": "stream",
     "text": [
      "Requirement already satisfied: pulp in h:\\programy\\anaconda\\lib\\site-packages (2.3)\n",
      "Requirement already satisfied: amply>=0.1.2 in h:\\programy\\anaconda\\lib\\site-packages (from pulp) (0.1.4)\n",
      "Requirement already satisfied: docutils>=0.3 in h:\\programy\\anaconda\\lib\\site-packages (from amply>=0.1.2->pulp) (0.16)\n",
      "Requirement already satisfied: pyparsing in h:\\programy\\anaconda\\lib\\site-packages (from amply>=0.1.2->pulp) (2.4.7)\n"
     ]
    }
   ],
   "source": [
    "!pip install pulp"
   ]
  },
  {
   "cell_type": "code",
   "execution_count": 10,
   "metadata": {},
   "outputs": [
    {
     "name": "stdout",
     "output_type": "stream",
     "text": [
      "2.3\n"
     ]
    }
   ],
   "source": [
    "import pulp\n",
    "print(pulp.__version__)"
   ]
  },
  {
   "cell_type": "code",
   "execution_count": null,
   "metadata": {},
   "outputs": [],
   "source": [
    "!conda install -c conda-forge pulp  #to sie nie chcialo skonczyc"
   ]
  },
  {
   "cell_type": "code",
   "execution_count": null,
   "metadata": {},
   "outputs": [],
   "source": [
    "#####################\n",
    "#Koniec instalowania#\n",
    "#####################"
   ]
  },
  {
   "cell_type": "code",
   "execution_count": 55,
   "metadata": {},
   "outputs": [
    {
     "name": "stdout",
     "output_type": "stream",
     "text": [
      "Status: Optimal\n"
     ]
    }
   ],
   "source": [
    "from pulp import *\n",
    "\n",
    "#definicja i nazwa problemu\n",
    "prob = LpProblem(\"The Whiskas Problem\",LpMinimize)\n",
    "\n",
    "#stworzenie zmiennych decyzyjnych\n",
    "x1=LpVariable(\"ChickenPercent\",0,None,LpInteger)\n",
    "x2=LpVariable(\"BeefPercent\",0,None,LpInteger)\n",
    "x3=LpVariable(\"PorkPercent\",0,None,LpInteger)\n",
    "\n",
    "\n",
    "prob += 0.013*x1 + 0.008*x2 + 0.006*x3, \"Total Cost of Ingredients per can\"\n",
    "prob += x1 + x2 + x3 == 100, \"PercentagesSum\"\n",
    "prob += 0.100*x1 + 0.200*x2 + 0.070*x3 >= 10.0, \"ProteinRequirement\"\n",
    "prob += 0.080*x1 + 0.100*x2 + 0.120*x3 >= 6.0, \"FatRequirement\"\n",
    "prob += 0.001*x1 + 0.003*x2 + 0.002*x3 <= 1.0, \"FibreRequirement\"\n",
    "prob += 0.002*x1 + 0.005*x2 <= 0.4, \"SaltRequirement\"\n",
    "\n",
    "prob.solve()\n",
    "print(\"Status:\", LpStatus[prob.status])\n"
   ]
  },
  {
   "cell_type": "code",
   "execution_count": 57,
   "metadata": {},
   "outputs": [
    {
     "name": "stdout",
     "output_type": "stream",
     "text": [
      "BeefPercent = 24.0\n",
      "ChickenPercent = 0.0\n",
      "PorkPercent = 76.0\n"
     ]
    }
   ],
   "source": [
    "for v in prob.variables():\n",
    "    print(v.name, \"=\", v.varValue)"
   ]
  }
 ],
 "metadata": {
  "kernelspec": {
   "display_name": "Python 3",
   "language": "python",
   "name": "python3"
  },
  "language_info": {
   "codemirror_mode": {
    "name": "ipython",
    "version": 3
   },
   "file_extension": ".py",
   "mimetype": "text/x-python",
   "name": "python",
   "nbconvert_exporter": "python",
   "pygments_lexer": "ipython3",
   "version": "3.8.3"
  }
 },
 "nbformat": 4,
 "nbformat_minor": 4
}
