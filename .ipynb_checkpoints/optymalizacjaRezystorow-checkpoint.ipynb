{
 "cells": [
  {
   "cell_type": "markdown",
   "metadata": {},
   "source": [
    "## Minimalne straty w mostku\n",
    "Napięcia na mostku:\n",
    "\n",
    "    U1 = 6V\n",
    "    \n",
    "    U2 = 10V\n",
    "    \n",
    "    U3 = 4V\n",
    "    \n",
    "    U4 = 7V\n",
    "    \n",
    "    U5 = 3V\n",
    "    \n",
    "Prądy mostka - zmienne w zakresach +/-Di = 1mA od Ii:\n",
    "    \n",
    "    I1 = 4mA\n",
    "    \n",
    "    I2 = 2mA\n",
    "    \n",
    "    I3 = 2mA\n",
    "    \n",
    "    I4 = 2mA\n",
    "    \n",
    "    I5 = 4mA\n"
   ]
  },
  {
   "cell_type": "code",
   "execution_count": 8,
   "metadata": {},
   "outputs": [
    {
     "name": "stdout",
     "output_type": "stream",
     "text": [
      "Status: Optimal\n",
      "Prad_1 = 3.0\n",
      "Prad_2 = 1.0\n",
      "Prad_3 = 1.0\n",
      "Prad_4 = 1.0\n",
      "Prad_5 = 3.0\n",
      "R1: 2000.0 Ohm\n",
      "R2: 10000.0 Ohm\n",
      "R3: 4000.0 Ohm\n",
      "R4: 7000.0 Ohm\n",
      "R5: 1000.0 Ohm\n"
     ]
    }
   ],
   "source": [
    "from pulp import *\n",
    "\n",
    "#problem statement\n",
    "minimalizacjaStrat = LpProblem(\"Minimalizacja strat mocy na rezystorach\",LpMinimize)\n",
    "\n",
    "#zmienne decyzyjne\n",
    "I1 = LpVariable(\"Prad 1\",0,None,LpContinuous)\n",
    "I2 = LpVariable(\"Prad 2\",0,None,LpContinuous)\n",
    "I3 = LpVariable(\"Prad 3\",0,None,LpContinuous)\n",
    "I4 = LpVariable(\"Prad 4\",0,None,LpContinuous)\n",
    "I5 = LpVariable(\"Prad 5\",0,None,LpContinuous)\n",
    "\n",
    "#wyrażenie do optymalizacji\n",
    "minimalizacjaStrat += 6*I1 + 10*I2 + 4*I3 + 7*I4 + 3*I5, \"MocTracona\"\n",
    "\n",
    "#ograniczenia\n",
    "minimalizacjaStrat += 3 <= I1, \"Ograniczenie_P1_min\"\n",
    "minimalizacjaStrat += I1 <= 5, \"Ograniczenie_P1_max\"\n",
    "\n",
    "minimalizacjaStrat += 1 <= I2, \"Ograniczenie_P2_min\"\n",
    "minimalizacjaStrat += I2 <= 3, \"Ograniczenie_P2_max\"\n",
    "\n",
    "minimalizacjaStrat += 1 <= I3, \"Ograniczenie_P3_min\"\n",
    "minimalizacjaStrat += I3 <= 3, \"Ograniczenie_P3_max\"\n",
    "\n",
    "minimalizacjaStrat += 1 <= I4, \"Ograniczenie_P4_min\"\n",
    "minimalizacjaStrat += I4 <= 3, \"Ograniczenie_P4_max\"\n",
    "\n",
    "minimalizacjaStrat += 3 <= I5, \"Ograniczenie_P5_min\"\n",
    "minimalizacjaStrat += I5 <= 5, \"Ograniczenie_P5_max\"\n",
    "\n",
    "#rozwiązanie problemu\n",
    "minimalizacjaStrat.solve()\n",
    "\n",
    "print (\"Status:\", LpStatus[minimalizacjaStrat.status])\n",
    "\n",
    "for v in minimalizacjaStrat.variables():\n",
    "    print (v.name, \"=\", v.varValue)\n",
    "\n",
    "print(\"R1:\", 6000/I1.varValue,\"Ohm\")\n",
    "print(\"R2:\", 10000/I2.varValue,\"Ohm\")\n",
    "print(\"R3:\", 4000/I3.varValue,\"Ohm\")\n",
    "print(\"R4:\", 7000/I4.varValue,\"Ohm\")\n",
    "print(\"R5:\", 3000/I5.varValue,\"Ohm\")"
   ]
  },
  {
   "cell_type": "markdown",
   "metadata": {},
   "source": [
    "## Jaki maksymalny prad może popłynąć przez układ rezystorów?\n",
    "\n",
    "Plik: Rezystory2.png"
   ]
  },
  {
   "cell_type": "code",
   "execution_count": 11,
   "metadata": {},
   "outputs": [
    {
     "name": "stdout",
     "output_type": "stream",
     "text": [
      "Status: Optimal\n",
      "Prad1 = 1.5428571\n",
      "Prad2 = 2.0571429\n",
      "Prad3 = 3.6\n",
      "Prad4 = 1.6\n",
      "Prad5 = 2.0\n",
      "Maksymalny prad plynacy przez uklad wynosi 3.6 A\n"
     ]
    }
   ],
   "source": [
    "from pulp import *\n",
    "\n",
    "#problem statement\n",
    "maksPrad = LpProblem(\"maksPrad\",LpMaximize)\n",
    "\n",
    "I1 = LpVariable(\"Prad1\",0,None,LpContinuous)\n",
    "I2 = LpVariable(\"Prad2\",0,None,LpContinuous)\n",
    "I3 = LpVariable(\"Prad3\",0,None,LpContinuous)\n",
    "I4 = LpVariable(\"Prad4\",0,None,LpContinuous)\n",
    "I5 = LpVariable(\"Prad5\",0,None,LpContinuous)\n",
    "\n",
    "maksPrad += I3, \"SumaPradow\" #ze schematu wynika, że największy prąd (suma pozostałych) popłynie przez I3\n",
    "\n",
    "maksPrad += I1 + I2 == I3, \"SumaPradow12\"\n",
    "maksPrad += I5 + I4 == I3, \"SumaPradow45\"\n",
    "\n",
    "maksPrad += I1*8 == I2*6, \"PrawoOhmaLewegoOczko\"\n",
    "maksPrad += I5*8 == I4*10, \"PrawoOhmaPraweOczko\"\n",
    "\n",
    "maksPrad += I1 <= 2, \"Ograniczenie_I1\"\n",
    "maksPrad += I2 <= 3, \"Ograniczenie_I2\"\n",
    "maksPrad += I3 <= 4, \"Ograniczenie_I3\"\n",
    "maksPrad += I4 <= 2, \"Ograniczenie_I4\"\n",
    "maksPrad += I5 <= 2, \"Ograniczenie_I5\"\n",
    "\n",
    "\n",
    "maksPrad.solve()\n",
    "print (\"Status:\", LpStatus[maksPrad.status])\n",
    "\n",
    "for v in maksPrad.variables():\n",
    "    print (v.name, \"=\", v.varValue)\n",
    "\n",
    "print(\"Maksymalny prad plynacy przez uklad wynosi\",I3.varValue,\"A\")"
   ]
  }
 ],
 "metadata": {
  "kernelspec": {
   "display_name": "Python 3",
   "language": "python",
   "name": "python3"
  },
  "language_info": {
   "codemirror_mode": {
    "name": "ipython",
    "version": 3
   },
   "file_extension": ".py",
   "mimetype": "text/x-python",
   "name": "python",
   "nbconvert_exporter": "python",
   "pygments_lexer": "ipython3",
   "version": "3.8.3"
  }
 },
 "nbformat": 4,
 "nbformat_minor": 4
}
