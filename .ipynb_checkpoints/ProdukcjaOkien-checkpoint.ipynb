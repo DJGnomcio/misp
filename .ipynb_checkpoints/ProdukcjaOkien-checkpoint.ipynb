{
 "cells": [
  {
   "cell_type": "markdown",
   "metadata": {},
   "source": [
    "# Rozwiązanie problemu produkcji okien\n",
    "\n",
    "Problem: ile wyprodukować okien \n",
    "\n",
    "        -aluminiowych\n",
    "        -drewnianych\n",
    "żeby uzyskać maksymalny zysk.\n",
    "\n",
    "## Ograniczenia: \n",
    "\n",
    "Fabryka F1 pracuje przez 4h tygodniowo produkując tylko okna aluminiowe; czas produkcji partii to 1h\n",
    "\n",
    "Fabryka F2 pracuje przez 12h tygodniowo produkując tylko okna drewniane; czas produkcji partii to 2h\n",
    "\n",
    "Fabryka F2 pracuje przez 18h tygodniowo produkując dowolne okna; czas produkcji partii okien drewnianych to 3h, aluminiowych - 2h"
   ]
  },
  {
   "cell_type": "code",
   "execution_count": 44,
   "metadata": {},
   "outputs": [],
   "source": [
    "from pulp import *\n",
    "\n",
    "zyskOkna = LpProblem(\"Maksyamalizacja zysku z okien\",LpMaximize)\n",
    "\n",
    "#zysk za x1 to 3000, a za x2 to 5000\n",
    "x1=LpVariable(\"oknaAluminiowe\",0)\n",
    "x2=LpVariable(\"oknaDrewniane\",0)"
   ]
  },
  {
   "cell_type": "code",
   "execution_count": 45,
   "metadata": {},
   "outputs": [
    {
     "name": "stdout",
     "output_type": "stream",
     "text": [
      "Status: Optimal\n"
     ]
    }
   ],
   "source": [
    "#wspolczynnik do minimalizacji\n",
    "zyskOkna += 3*x1 + 5*x2, \"Zysk\"\n",
    "\n",
    "#ograniczenia\n",
    "zyskOkna += x1*1 <= 4, \"CzasF1\"\n",
    "zyskOkna += x2*2 <= 12, \"CzasF2\"\n",
    "zyskOkna += 3*x1 + 2*x2 <= 18, \"CzasF3\"\n",
    "\n",
    "#rozwiazanie\n",
    "zyskOkna.solve()\n",
    "print(\"Status:\", LpStatus[zyskOkna.status])"
   ]
  },
  {
   "cell_type": "code",
   "execution_count": 46,
   "metadata": {},
   "outputs": [
    {
     "name": "stdout",
     "output_type": "stream",
     "text": [
      "oknaAluminiowe = 2.0\n",
      "oknaDrewniane = 6.0\n"
     ]
    }
   ],
   "source": [
    "for v in zyskOkna.variables():\n",
    "    print(v.name, \"=\", v.varValue)"
   ]
  },
  {
   "cell_type": "markdown",
   "metadata": {},
   "source": [
    "## Wprowadzenie mozliwosci modyfikacji parametrow stalych"
   ]
  },
  {
   "cell_type": "code",
   "execution_count": 58,
   "metadata": {},
   "outputs": [
    {
     "data": {
      "application/vnd.jupyter.widget-view+json": {
       "model_id": "1e52a16e08814b94b8acace397c97047",
       "version_major": 2,
       "version_minor": 0
      },
      "text/plain": [
       "interactive(children=(IntSlider(value=3000, description='zysk_okien_aluminiowych', max=9000, min=-3000), IntSl…"
      ]
     },
     "metadata": {},
     "output_type": "display_data"
    },
    {
     "data": {
      "text/plain": [
       "<function __main__.parametry(zysk_okien_aluminiowych=3000, zysk_okien_drewnianych=5000, tempo_drewn_f1=0, tempo_drewn_f2=2, tempo_drewn_f3=2, tempo_alumi_f1=1, tempo_alumi_f2=0, tempo_alumi_f3=3, czas_f1=4, czas_f2=12, czas_f3=18)>"
      ]
     },
     "execution_count": 58,
     "metadata": {},
     "output_type": "execute_result"
    }
   ],
   "source": [
    "#wprowadzenie mozliwosci modyfikacji parametrow stalych\n",
    "from __future__ import print_function\n",
    "from ipywidgets import interact, interactive, fixed, interact_manual, Layout, FloatSlider, IntSlider\n",
    "import ipywidgets as widgets\n",
    "import pandas as pd\n",
    "\n",
    "zysk_okien_aluminiowych_slider = FloatSlider(min=0,max = 10000, value= 3000, description=\"zysk_okien_aluminiowych\")\n",
    "zysk_okien_drewnianych_slider = FloatSlider(min=0,max = 10000, value= 5000, description=\"zysk_okien_drewnianych\")\n",
    "\n",
    "tempo_drewn_f1_slider = IntSlider(min=0,max = 5, value= 0, description=\"tempo_drewn_f1\")\n",
    "tempo_drewn_f2_slider = IntSlider(min=0,max = 5, value= 2, description=\"tempo_drewn_f1\")\n",
    "tempo_drewn_f3_slider = IntSlider(min=0,max = 5, value= 2, description=\"tempo_drewn_f1\")\n",
    "\n",
    "tempo_alumi_f1_slider = IntSlider(min=0,max = 5, value= 1, description=\"tempo_alumi_f1\")\n",
    "tempo_alumi_f2_slider = IntSlider(min=0,max = 5, value= 0, description=\"tempo_alumi_f1\")\n",
    "tempo_alumi_f3_slider = IntSlider(min=0,max = 5, value= 3, description=\"tempo_alumi_f1\")\n",
    "\n",
    "czas_f1_slider = IntSlider(min=0,max = 20, value=  4, description=\"czas_f1\")\n",
    "czas_f2_slider = IntSlider(min=0,max = 20, value= 12, description=\"czas_f2\")\n",
    "czas_f3_slider = IntSlider(min=0,max = 20, value= 18, description=\"czas_f3\")\n",
    "\n",
    "def parametry(zysk_okien_aluminiowych = 3000,\n",
    "              zysk_okien_drewnianych = 5000,\n",
    "              tempo_drewn_f1 = 0, #ile czasu musi poswiecic fabryka 1, aby mogly powstac drewniane okna\n",
    "              tempo_drewn_f2 = 2, #ile czasu musi poswiecic fabryka 2, aby mogly powstac drewniane okna\n",
    "              tempo_drewn_f3 = 2, #ile czasu musi poswiecic fabryka 3, aby mogly powstac drewniane okna\n",
    "              tempo_alumi_f1 = 1, #ile czasu musi poswiecic fabryka 1, aby mogly powstac aluminiowe okna\n",
    "              tempo_alumi_f2 = 0, #ile czasu musi poswiecic fabryka 2, aby mogly powstac aluminiowe okna\n",
    "              tempo_alumi_f3 = 3, #ile czasu musi poswiecic fabryka 3, aby mogly powstac aluminiowe okna\n",
    "              #aby powstaly okna, wszystkie fabryki je produkujace MUSZA pracowac nad nimi przez dana liczbe godzin!\n",
    "              czas_f1 = 4,\n",
    "              czas_f2 = 12,\n",
    "              czas_f3 = 18):\n",
    "    \n",
    "    zyskOkna = LpProblem(\"Maksyamalizacja zysku z okien\",LpMaximize)\n",
    "\n",
    "    #zysk za x1 to 3000, a za x2 to 5000\n",
    "    x1=LpVariable(\"oknaAluminiowe\",0,None,LpInteger)\n",
    "    x2=LpVariable(\"oknaDrewniane\",0,None,LpInteger)\n",
    "    \n",
    "    #wspolczynnik do minimalizacji\n",
    "    zyskOkna += zysk_okien_aluminiowych*x1 + zysk_okien_drewnianych*x2, \"Zysk\"\n",
    "\n",
    "    #ograniczenia\n",
    "    zyskOkna += x1*tempo_alumi_f1 + x2*tempo_drewn_f1 <= czas_f1, \"CzasF1\"\n",
    "    zyskOkna += x1*tempo_alumi_f2 + x2*tempo_drewn_f2 <= czas_f2, \"CzasF2\"\n",
    "    zyskOkna += x1*tempo_alumi_f3 + x2*tempo_drewn_f3 <= czas_f3, \"CzasF3\"\n",
    "\n",
    "    #rozwiazanie\n",
    "    zyskOkna.solve()\n",
    "    print(\"Status:\", LpStatus[zyskOkna.status])\n",
    "    \n",
    "    for v in zyskOkna.variables():\n",
    "        print(v.name, \"=\", v.varValue)\n",
    "    print(\"Zysk wyniesie {} zł  \".format(value(zyskOkna.objective)))\n",
    "    \n",
    "    shadows = [{'name':name, 'shadow price': c.pi, \"slack\": c.slack} for name, c in zyskOkna.constraints.items()]\n",
    "    print(\"*\"*10+\"Shadow Prices\"+\"*\"*10)   #slack - jak daleko jestesmy od ograniczenia\n",
    "    print(pd.DataFrame(shadows))\n",
    "    \n",
    "interact(parametry, tempo_drewn_f1 = tempo_drewn_f1_slider,\n",
    "             tempo_drewn_f2 = tempo_drewn_f2_slider,\n",
    "             tempo_drewn_f3 = tempo_drewn_f3_slider,\n",
    "             tempo_alumi_f1 = tempo_alumi_f1_slider,\n",
    "             tempo_alumi_f2 = tempo_alumi_f2_slider,\n",
    "             tempo_alumi_f3 = tempo_alumi_f3_slider,\n",
    "             czas_f1 = czas_f1_slider,\n",
    "             czas_f2 = czas_f2_slider,\n",
    "             czas_f3 = czas_f3_slider)"
   ]
  }
 ],
 "metadata": {
  "kernelspec": {
   "display_name": "Python 3",
   "language": "python",
   "name": "python3"
  },
  "language_info": {
   "codemirror_mode": {
    "name": "ipython",
    "version": 3
   },
   "file_extension": ".py",
   "mimetype": "text/x-python",
   "name": "python",
   "nbconvert_exporter": "python",
   "pygments_lexer": "ipython3",
   "version": "3.8.3"
  }
 },
 "nbformat": 4,
 "nbformat_minor": 4
}
