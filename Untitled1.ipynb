{
 "cells": [
  {
   "cell_type": "code",
   "execution_count": 22,
   "metadata": {},
   "outputs": [],
   "source": [
    "from pulp import *\n",
    "\n",
    "zyskOkna = LpProblem(\"Maksyamalizacja zysku z okien\",LpMaximize)\n",
    "\n",
    "#zysk za x1 to 3000, a za x2 to 5000\n",
    "x1=LpVariable(\"oknaAluminiowe\",0)\n",
    "x2=LpVariable(\"oknaDrewniane\",0)"
   ]
  },
  {
   "cell_type": "code",
   "execution_count": 27,
   "metadata": {},
   "outputs": [
    {
     "name": "stdout",
     "output_type": "stream",
     "text": [
      "Status: Optimal\n"
     ]
    }
   ],
   "source": [
    "#wspolczynnik do minimalizacji\n",
    "zyskOkna += 3*x1 + 5*x2, \"Zysk\"\n",
    "\n",
    "#ograniczenia\n",
    "zyskOkna += x1*1 <= 4, \"CzasF1\"\n",
    "zyskOkna += x2*2 <= 12, \"CzasF2\"\n",
    "zyskOkna += 3*x1 + 2*x2 <= 18, \"CzasF3\"\n",
    "\n",
    "#rozwiazanie\n",
    "zyskOkna.solve()\n",
    "print(\"Status:\", LpStatus[zyskOkna.status])"
   ]
  },
  {
   "cell_type": "code",
   "execution_count": 29,
   "metadata": {},
   "outputs": [
    {
     "name": "stdout",
     "output_type": "stream",
     "text": [
      "oknaAluminiowe = 2.0\n",
      "oknaDrewniane = 6.0\n"
     ]
    }
   ],
   "source": [
    "for v in zyskOkna.variables():\n",
    "    print(v.name, \"=\", v.varValue)"
   ]
  }
 ],
 "metadata": {
  "kernelspec": {
   "display_name": "Python 3",
   "language": "python",
   "name": "python3"
  },
  "language_info": {
   "codemirror_mode": {
    "name": "ipython",
    "version": 3
   },
   "file_extension": ".py",
   "mimetype": "text/x-python",
   "name": "python",
   "nbconvert_exporter": "python",
   "pygments_lexer": "ipython3",
   "version": "3.8.3"
  }
 },
 "nbformat": 4,
 "nbformat_minor": 4
}
