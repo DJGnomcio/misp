{
 "cells": [
  {
   "cell_type": "markdown",
   "metadata": {},
   "source": [
    "# Optymalizacja parametrów układu elektronicznego\n",
    "Napięcia na mostku:\n",
    "\n",
    "* U1 = 6V\n",
    "* U2 = 10V\n",
    "* U3 = 4V\n",
    "* U4 = 7V\n",
    "* U5 = 3V\n",
    "    \n",
    "Prądy mostka - zmienne w zakresach +/-Di = 1mA od Ii:\n",
    "    \n",
    "* I1 = 4mA\n",
    "* I2 = 2mA\n",
    "* I3 = 2mA\n",
    "* I4 = 2mA\n",
    "* I5 = 4mA\n",
    "\n",
    "## Minimalizacja mocy wydzielanej na rezysotrach\n",
    "\n",
    "Plik: Rezystory1.png\n",
    "\n",
    "Podane są wartości napięć na poszczególnych elementach. Należy określić jakie powinny być wartości rezystancji, aby moc wydzielana w układzie była minimalna. "
   ]
  },
  {
   "source": [
    "![](Rezystory1.png)"
   ],
   "cell_type": "markdown",
   "metadata": {}
  },
  {
   "cell_type": "code",
   "execution_count": 7,
   "metadata": {},
   "outputs": [
    {
     "output_type": "stream",
     "name": "stdout",
     "text": [
      "Status: Optimal\nPrad_1 = 3.0\nPrad_2 = 1.0\nPrad_3 = 1.0\nPrad_4 = 1.0\nPrad_5 = 3.0\nR1: 2000.0 Ohm\nR2: 10000.0 Ohm\nR3: 4000.0 Ohm\nR4: 7000.0 Ohm\nR5: 1000.0 Ohm\n"
     ]
    }
   ],
   "source": [
    "from pulp import *\n",
    "\n",
    "# problem statement\n",
    "minimalizacjaStrat = LpProblem(\"Minimalizacja strat mocy na rezystorach\",LpMinimize)\n",
    "\n",
    "# zmienne decyzyjne\n",
    "I1 = LpVariable(\"Prad 1\",0,None,LpContinuous)\n",
    "I2 = LpVariable(\"Prad 2\",0,None,LpContinuous)\n",
    "I3 = LpVariable(\"Prad 3\",0,None,LpContinuous)\n",
    "I4 = LpVariable(\"Prad 4\",0,None,LpContinuous)\n",
    "I5 = LpVariable(\"Prad 5\",0,None,LpContinuous)\n",
    "\n",
    "# wyrażenie do optymalizacji\n",
    "minimalizacjaStrat += 6*I1 + 10*I2 + 4*I3 + 7*I4 + 3*I5, \"MocTracona\"\n",
    "\n",
    "# ograniczenia (kazdy prad musi miec wartosc z przedzialu [Ii - Di, Ii + Di])\n",
    "minimalizacjaStrat += 3 <= I1, \"Ograniczenie_I1_min\"   \n",
    "minimalizacjaStrat += I1 <= 5, \"Ograniczenie_I1_max\"\n",
    "\n",
    "minimalizacjaStrat += 1 <= I2, \"Ograniczenie_I2_min\"\n",
    "minimalizacjaStrat += I2 <= 3, \"Ograniczenie_I2_max\"\n",
    "\n",
    "minimalizacjaStrat += 1 <= I3, \"Ograniczenie_I3_min\"\n",
    "minimalizacjaStrat += I3 <= 3, \"Ograniczenie_I3_max\"\n",
    "\n",
    "minimalizacjaStrat += 1 <= I4, \"Ograniczenie_I4_min\"\n",
    "minimalizacjaStrat += I4 <= 3, \"Ograniczenie_I4_max\"\n",
    "\n",
    "minimalizacjaStrat += 3 <= I5, \"Ograniczenie_I5_min\"\n",
    "minimalizacjaStrat += I5 <= 5, \"Ograniczenie_I5_max\"\n",
    "\n",
    "# rozwiązanie problemu\n",
    "minimalizacjaStrat.solve()\n",
    "\n",
    "# status problemu\n",
    "print (\"Status:\", LpStatus[minimalizacjaStrat.status])\n",
    "\n",
    "for v in minimalizacjaStrat.variables():\n",
    "    print (v.name, \"=\", v.varValue)\n",
    "\n",
    "# wyswietlenie optymalnych wartosci rezystorow\n",
    "print(\"R1:\", 6000/I1.varValue,\"Ohm\")\n",
    "print(\"R2:\", 10000/I2.varValue,\"Ohm\")\n",
    "print(\"R3:\", 4000/I3.varValue,\"Ohm\")\n",
    "print(\"R4:\", 7000/I4.varValue,\"Ohm\")\n",
    "print(\"R5:\", 3000/I5.varValue,\"Ohm\")"
   ]
  },
  {
   "cell_type": "markdown",
   "metadata": {},
   "source": [
    "## Jaki maksymalny prad może popłynąć przez układ rezystorów?\n",
    "\n",
    "Plik: Rezystory2.png\n",
    "\n",
    "Podane są maksymalne prądy, jakie mogą przepływać przez każdy z elementów. Należy określić jaki maksymalny prąd może przepłynąć przez cały układ.\n",
    "\n",
    "Największy prąd jaki będzie przepływać przez układ, to prąd rezystora R3. Zatem współczynnikiem do zoptymalizowania może być prąd I3.\n",
    "\n",
    "Muszą zostać spełnione prawa Kirchhoffa (prądowe i napięciowe).  "
   ]
  },
  {
   "source": [
    "![](Rezystory2.png)"
   ],
   "cell_type": "markdown",
   "metadata": {}
  },
  {
   "cell_type": "code",
   "execution_count": 6,
   "metadata": {},
   "outputs": [
    {
     "output_type": "stream",
     "name": "stdout",
     "text": [
      "Status: Optimal\nPrad1 = 1.5428571\nPrad2 = 2.0571429\nPrad3 = 3.6\nPrad4 = 1.6\nPrad5 = 2.0\nMaksymalny prad plynacy przez uklad wynosi 3.6 A\n"
     ]
    }
   ],
   "source": [
    "from pulp import *\n",
    "\n",
    "#problem statement\n",
    "maksPrad = LpProblem(\"maksPrad\",LpMaximize)\n",
    "\n",
    "#definicja zmiennych decyzyjnych\n",
    "I1 = LpVariable(\"Prad1\",0,None,LpContinuous)\n",
    "I2 = LpVariable(\"Prad2\",0,None,LpContinuous)\n",
    "I3 = LpVariable(\"Prad3\",0,None,LpContinuous)\n",
    "I4 = LpVariable(\"Prad4\",0,None,LpContinuous)\n",
    "I5 = LpVariable(\"Prad5\",0,None,LpContinuous)\n",
    "\n",
    "# definicja wstakznika do minimalizacji (prad I3)\n",
    "maksPrad += I3, \"SumaPradow\" # ze schematu wynika, że największy prąd (suma pozostałych) popłynie przez I3\n",
    "\n",
    "# ograniczenia dot. prądowego prawa Kirchhoffa\n",
    "maksPrad += I1 + I2 == I3, \"SumaPradow12\"\n",
    "maksPrad += I5 + I4 == I3, \"SumaPradow45\"\n",
    "\n",
    "# ograniczenia dot. napieciowego prawa kirchhoffa\n",
    "maksPrad += I1*8 == I2*6,   \"PrawoKirchhoffaLewegoOczko\"\n",
    "maksPrad += I5*8 == I4*10,  \"PrawoKirchhoffaPraweOczko\"\n",
    "\n",
    "# ograniczenia dot wartosci maksymalnych pradow\n",
    "maksPrad += I1 <= 2, \"Ograniczenie_I1\"\n",
    "maksPrad += I2 <= 3, \"Ograniczenie_I2\"\n",
    "maksPrad += I3 <= 4, \"Ograniczenie_I3\"\n",
    "maksPrad += I4 <= 2, \"Ograniczenie_I4\"\n",
    "maksPrad += I5 <= 2, \"Ograniczenie_I5\"\n",
    "\n",
    "# rozwiazanie problemu\n",
    "maksPrad.solve()\n",
    "print (\"Status:\", LpStatus[maksPrad.status])\n",
    "\n",
    "# wyswietlenie wynikow\n",
    "for v in maksPrad.variables():\n",
    "    print (v.name, \"=\", v.varValue)\n",
    "\n",
    "print(\"Maksymalny prad plynacy przez uklad wynosi\",I3.varValue,\"A\")"
   ]
  }
 ],
 "metadata": {
  "kernelspec": {
   "display_name": "Python 3",
   "language": "python",
   "name": "python3"
  },
  "language_info": {
   "codemirror_mode": {
    "name": "ipython",
    "version": 3
   },
   "file_extension": ".py",
   "mimetype": "text/x-python",
   "name": "python",
   "nbconvert_exporter": "python",
   "pygments_lexer": "ipython3",
   "version": "3.8.3-final"
  }
 },
 "nbformat": 4,
 "nbformat_minor": 4
}