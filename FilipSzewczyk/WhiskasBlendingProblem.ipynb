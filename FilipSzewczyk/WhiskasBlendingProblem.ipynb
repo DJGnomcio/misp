{
 "cells": [
  {
   "cell_type": "markdown",
   "metadata": {
    "id": "JHP3Y3Yh-stH"
   },
   "source": [
    "# Whiskas Blending Problem\n",
    "\n",
    "Zadania:\n",
    "\n",
    "przeczytaj materiały dotyczące pulp ze strony internetowej https://coin-or.github.io/pulp/main/index.html oraz przejdź przez blending problem\n",
    "\n",
    "w blending problem dodaj zmienną decyzyjną. Stwórz zmienną która pojawi się w końcowym składzie produktu (tj. wartość zmiennej będzie miała niezerowa postać)\n",
    "\n",
    "Dodaj ograniczenie co do zawartości witaminy C \n",
    "\n",
    "Zawartość:\n",
    "\n",
    "| Nazwa      | zawartość ug/100g |\n",
    "|------------|-------------------|\n",
    "| chicken    | 0.3               |\n",
    "| beef       | 2.6               |\n",
    "| mutton     | 2.6               |\n",
    "| rice       | 0                 |\n",
    "| wheat bran | 0                 |\n",
    "| gel        | 0                 |\n",
    "| sardines   | 8.9               |\n",
    "\n",
    "Kot ma zjeść minimym 0.24 ug na kilogram masy więc około\n",
    "0.8 ug dziennie\n",
    "\n",
    "\n"
   ]
  },
  {
   "source": [
    "## Definicja słowników"
   ],
   "cell_type": "markdown",
   "metadata": {}
  },
  {
   "cell_type": "code",
   "execution_count": 4,
   "metadata": {
    "id": "BhWf9b8IMJZ7"
   },
   "outputs": [
    {
     "output_type": "execute_result",
     "data": {
      "text/plain": [
       "1"
      ]
     },
     "metadata": {},
     "execution_count": 4
    }
   ],
   "source": [
    "from pulp import * \n",
    "\n",
    "# Lista skladnikow\n",
    "Ingredients = ['CHICKEN', 'BEEF', 'GEL', 'SARDINES'] #stworzone dwie nowe zmienne - GEL i SARDINES\n",
    "\n",
    "# Koszt\n",
    "costs = {'CHICKEN': 0.013, \n",
    "         'BEEF': 0.008, \n",
    "         'SARDINES': 0.010,  \n",
    "         'GEL': 0.001}\n",
    "\n",
    "# Zawrtosc bialka\n",
    "proteinPercent = {'CHICKEN': 0.10, \n",
    "                  'BEEF': 0.20, \n",
    "                  'SARDINES': 0.15, \n",
    "                  'GEL': 0.00}\n",
    "\n",
    "# zawartosc tluszczu\n",
    "fatPercent = {'CHICKEN': 0.080, \n",
    "              'BEEF': 0.100, \n",
    "              'SARDINES': 0.070, \n",
    "              'GEL': 0.00}\n",
    "\n",
    "# zawartosc blonnika\n",
    "fibrePercent = {'CHICKEN': 0.01, \n",
    "                'BEEF': 0.05, \n",
    "                'SARDINES': 0.04, \n",
    "                'GEL': 0.00}\n",
    "\n",
    "# zawartosc soli\n",
    "saltPercent = {'CHICKEN': 0.02, \n",
    "               'BEEF': 0.05, \n",
    "               'SARDINES': 0.03, \n",
    "               'GEL': 0.00}\n",
    "\n",
    "#zawartosc witaminy C\n",
    "vitamiBPercent = {'CHICKEN': 0.03, \n",
    "               'BEEF': 0.26, \n",
    "               'SARDINES': 0.89, \n",
    "               'GEL': 0.00}"
   ]
  },
  {
   "source": [
    "## Definicja problemu "
   ],
   "cell_type": "markdown",
   "metadata": {}
  },
  {
   "cell_type": "code",
   "execution_count": null,
   "metadata": {},
   "outputs": [],
   "source": [
    "prob = LpProblem(\"Optymalizacja zawartosci Whiskasa\", LpMinimize)\n",
    "\n",
    "ingredient_vars = LpVariable.dicts(\"Skladniki\",Ingredients,0)\n",
    "\n",
    "prob += lpSum([ingredient_vars[i] for i in Ingredients])                    == 100,   \"PercentagesSum\"\n",
    "prob += lpSum([costs[i]*ingredient_vars[i] for i in Ingredients])           <= 2.0,   \"TotalCost\"\n",
    "prob += lpSum([proteinPercent[i]*ingredient_vars[i] for i in Ingredients])  >= 12.25, \"ProteinRequirement\"\n",
    "prob += lpSum([fatPercent[i]*ingredient_vars[i] for i in Ingredients])      <= 7.21,  \"FatRequirement\"\n",
    "prob += lpSum([fibrePercent[i]*ingredient_vars[i] for i in Ingredients])    >= 2.52,  \"FibreRequirement\"\n",
    "prob += lpSum([saltPercent[i]*ingredient_vars[i] for i in Ingredients])     <= 3.5,   \"SaltRequirement\"\n",
    "prob += ingredient_vars['GEL']                                              <= 15,    \"GelRequirement\"\n",
    "#ograniczenie zawartosci vit. B#\n",
    "prob += lpSum([vitamiBPercent[i]*ingredient_vars[i] for i in Ingredients])  >= 2.0,   \"VitaminBRequirement\" \n",
    "################################"
   ]
  },
  {
   "source": [
    "## Rozwiązanie problemu"
   ],
   "cell_type": "markdown",
   "metadata": {}
  },
  {
   "cell_type": "code",
   "execution_count": 2,
   "metadata": {},
   "outputs": [
    {
     "output_type": "stream",
     "name": "stdout",
     "text": [
      "Status: Optimal\n"
     ]
    }
   ],
   "source": [
    "prob.solve()\n",
    "\n",
    "print(\"Status:\", LpStatus[prob.status])"
   ]
  },
  {
   "source": [
    "## Otrzymane wartości"
   ],
   "cell_type": "markdown",
   "metadata": {}
  },
  {
   "cell_type": "code",
   "execution_count": 5,
   "metadata": {},
   "outputs": [
    {
     "output_type": "stream",
     "name": "stdout",
     "text": [
      "Produkt zawiera: \nSkladniki_BEEF = 29.0\nSkladniki_CHICKEN = 39.0\nSkladniki_GEL = 15.0\nSkladniki_SARDINES = 17.0\n__dummy = None\n"
     ]
    }
   ],
   "source": [
    "#Wyswietlenie wynikow\n",
    "print(\"Produkt zawiera: \")\n",
    "for v in prob.variables():\n",
    "    print(v.name, \"=\", v.varValue) "
   ]
  },
  {
   "cell_type": "code",
   "execution_count": null,
   "metadata": {},
   "outputs": [],
   "source": []
  }
 ],
 "metadata": {
  "colab": {
   "collapsed_sections": [],
   "name": "instalacja pierwsze ćwiczenia z Pulp",
   "provenance": []
  },
  "kernelspec": {
   "display_name": "Python 3",
   "language": "python",
   "name": "python3"
  },
  "language_info": {
   "codemirror_mode": {
    "name": "ipython",
    "version": 3
   },
   "file_extension": ".py",
   "mimetype": "text/x-python",
   "name": "python",
   "nbconvert_exporter": "python",
   "pygments_lexer": "ipython3",
   "version": "3.8.3-final"
  }
 },
 "nbformat": 4,
 "nbformat_minor": 1
}