{
  "nbformat": 4,
  "nbformat_minor": 0,
  "metadata": {
    "kernelspec": {
      "display_name": "Python 3",
      "language": "python",
      "name": "python3"
    },
    "language_info": {
      "codemirror_mode": {
        "name": "ipython",
        "version": 3
      },
      "file_extension": ".py",
      "mimetype": "text/x-python",
      "name": "python",
      "nbconvert_exporter": "python",
      "pygments_lexer": "ipython3",
      "version": "3.8.3"
    },
    "colab": {
      "name": "podstawy_python_jupyter.ipynb",
      "provenance": [],
      "collapsed_sections": []
    }
  },
  "cells": [
    {
      "cell_type": "code",
      "metadata": {
        "id": "FJBdskQSjlrX",
        "outputId": "87df419a-d8bc-441c-9b1e-2e15688e7b22"
      },
      "source": [
        "# komentarz\n",
        "\n",
        "# if\n",
        "\n",
        "wielkosc = 5\n",
        "\n",
        "print(wielkosc)"
      ],
      "execution_count": null,
      "outputs": [
        {
          "output_type": "stream",
          "text": [
            "5\n"
          ],
          "name": "stdout"
        }
      ]
    },
    {
      "cell_type": "code",
      "metadata": {
        "id": "ySZ0uWpJjlrb",
        "outputId": "a188873d-6d64-4fc1-f725-5cecfa3d6b54"
      },
      "source": [
        "if wielkosc >6:\n",
        "    print(\"ale duze\")\n",
        "elif wielkosc < 3:\n",
        "    print(\"malutkie\")\n",
        "    print('franek')\n",
        "else:\n",
        "    print(\"w sam raz\")"
      ],
      "execution_count": null,
      "outputs": [
        {
          "output_type": "stream",
          "text": [
            "w sam raz\n"
          ],
          "name": "stdout"
        }
      ]
    },
    {
      "cell_type": "code",
      "metadata": {
        "id": "i8Cin9fHjlre",
        "outputId": "7b96a38b-98ba-4068-ffd3-89cfd5aa9b4a"
      },
      "source": [
        "studenci = [\"Ania\", \"Zosia\", \"Kasia\", \"Franek\"]\n",
        "\n",
        "print(studenci)"
      ],
      "execution_count": null,
      "outputs": [
        {
          "output_type": "stream",
          "text": [
            "['Ania', 'Zosia', 'Kasia', 'Franek']\n"
          ],
          "name": "stdout"
        }
      ]
    },
    {
      "cell_type": "code",
      "metadata": {
        "id": "lKn3PyMajlrg",
        "outputId": "d8a6ab95-db3d-4066-bdee-d76eb25b6b22"
      },
      "source": [
        "studenci[0][1]"
      ],
      "execution_count": null,
      "outputs": [
        {
          "output_type": "execute_result",
          "data": {
            "text/plain": [
              "'Ania'"
            ]
          },
          "metadata": {
            "tags": []
          },
          "execution_count": 16
        }
      ]
    },
    {
      "cell_type": "code",
      "metadata": {
        "scrolled": true,
        "id": "FDpVJErnjlrj",
        "outputId": "ce76dd3f-725e-4e33-d523-5103a252f304"
      },
      "source": [
        "for student in studenci:\n",
        "    print(\"student ma na imie:\", student)\n",
        "    \n",
        "for student in studenci:\n",
        "    print(student)\n",
        "    if student[0]==\"A\":\n",
        "        print(\"student na poczatku alfabetu\")"
      ],
      "execution_count": null,
      "outputs": [
        {
          "output_type": "stream",
          "text": [
            "student ma na imie: Ania\n",
            "student ma na imie: Zosia\n",
            "student ma na imie: Kasia\n",
            "student ma na imie: Franek\n",
            "Ania\n",
            "student na poczatku alfabetu\n",
            "Zosia\n",
            "Kasia\n",
            "Franek\n"
          ],
          "name": "stdout"
        }
      ]
    },
    {
      "cell_type": "code",
      "metadata": {
        "id": "BDTJbRsRjlrl"
      },
      "source": [
        "kolejni_studenci = enumerate(studenci) #tworzy listę z elementami z tablicy studenci"
      ],
      "execution_count": null,
      "outputs": []
    },
    {
      "cell_type": "code",
      "metadata": {
        "id": "H6W4OQt8jlrn",
        "outputId": "f417ca8f-f231-426b-90bd-cd32679c7835"
      },
      "source": [
        "next(kolejni_studenci)"
      ],
      "execution_count": null,
      "outputs": [
        {
          "output_type": "execute_result",
          "data": {
            "text/plain": [
              "(3, 'Franek')"
            ]
          },
          "metadata": {
            "tags": []
          },
          "execution_count": 35
        }
      ]
    },
    {
      "cell_type": "code",
      "metadata": {
        "id": "suj0O4azjlrq",
        "outputId": "c373f700-c5dc-4d29-944d-ceba5df315f7"
      },
      "source": [
        "for numer, student in enumerate(studenci):\n",
        "    print(\"student {} ma numer {}\".format(student,numer))"
      ],
      "execution_count": null,
      "outputs": [
        {
          "output_type": "stream",
          "text": [
            "student Ania ma numer 0\n",
            "student Zosia ma numer 1\n",
            "student Kasia ma numer 2\n",
            "student Franek ma numer 3\n"
          ],
          "name": "stdout"
        }
      ]
    },
    {
      "cell_type": "code",
      "metadata": {
        "id": "EEawQY8ajlrt",
        "outputId": "ab1654d6-9b27-4a07-9908-31c1e0ffb3a3"
      },
      "source": [
        "oceny = [2,2,5,3]\n",
        "\n",
        "for numer, student in enumerate(studenci):\n",
        "    print(\"student {} ma numer {} i ocenę {}\".format(student,numer,oceny[numer]))\n",
        "\n",
        "print(\"--\"*20)    \n",
        "for number, (student, ocena) in enumerate(zip(studenci,oceny)):\n",
        "    print(\"student {} ma numer {} i ocenę {}\".format(student,number,ocena))"
      ],
      "execution_count": null,
      "outputs": [
        {
          "output_type": "stream",
          "text": [
            "student Ania ma numer 0 i ocenę 2\n",
            "student Zosia ma numer 1 i ocenę 2\n",
            "student Kasia ma numer 2 i ocenę 5\n",
            "student Franek ma numer 3 i ocenę 3\n",
            "----------------------------------------\n",
            "student Ania ma numer 0 i ocenę 2\n",
            "student Zosia ma numer 1 i ocenę 2\n",
            "student Kasia ma numer 2 i ocenę 5\n",
            "student Franek ma numer 3 i ocenę 3\n"
          ],
          "name": "stdout"
        }
      ]
    },
    {
      "cell_type": "code",
      "metadata": {
        "id": "siSWdxk9jlrv"
      },
      "source": [
        "trzy_elementy= [1,2,3]\n",
        "pierwszy,drugi,trzeci= trzy_elementy"
      ],
      "execution_count": null,
      "outputs": []
    },
    {
      "cell_type": "code",
      "metadata": {
        "id": "4j81CLrGjlry",
        "outputId": "3d580755-8a7d-4198-f8aa-7f363689aa35"
      },
      "source": [
        "n = 1\n",
        "\n",
        "while(n < 10):\n",
        "    print(n)\n",
        "    n+=1"
      ],
      "execution_count": null,
      "outputs": [
        {
          "output_type": "stream",
          "text": [
            "1\n",
            "2\n",
            "3\n",
            "4\n",
            "5\n",
            "6\n",
            "7\n",
            "8\n",
            "9\n"
          ],
          "name": "stdout"
        }
      ]
    },
    {
      "cell_type": "code",
      "metadata": {
        "id": "biY77AKNjlr0"
      },
      "source": [
        "def dodaj_dwa(liczba):\n",
        "    return liczba+2\n",
        "\n",
        "def dodaj_trzy(liczba):\n",
        "    return liczba+3\n",
        "\n",
        "def dodaj_dwie_liczby(liczba1,liczba2):\n",
        "    return liczba1+liczba2\n",
        "\n",
        "def bez_return():\n",
        "    print(\"nic mądrego nie mam do zwrócenia\")\n",
        "\n",
        "dodaj_cztery = lambda liczba:liczba+4   #to jest coś innego niż funkcja, czy też funkcja?\n",
        "\n",
        "def inne_dodaj_cztery(liczba):    #to jest funkcja\n",
        "    print(liczba+4)"
      ],
      "execution_count": null,
      "outputs": []
    },
    {
      "cell_type": "code",
      "metadata": {
        "id": "xKNK4nvSjlr2",
        "outputId": "ed0b1d4f-67c7-4f7f-da22-886769905688"
      },
      "source": [
        "wynik = dodaj_dwa(5)\n",
        "print(wynik)\n",
        "\n",
        "wynik_none = bez_return()\n",
        "print(wynik_none)\n",
        "\n",
        "print(dodaj_cztery(3))\n",
        "inne_dodaj_cztery(3) "
      ],
      "execution_count": null,
      "outputs": [
        {
          "output_type": "stream",
          "text": [
            "7\n",
            "nic mądrego nie mam do zwrócenia\n",
            "None\n",
            "7\n",
            "7\n"
          ],
          "name": "stdout"
        }
      ]
    },
    {
      "cell_type": "code",
      "metadata": {
        "id": "Cu-qzvlwjlr4",
        "outputId": "630573d8-bab7-4a8c-a25d-f9522a9da3fc"
      },
      "source": [
        "funkcje=[dodaj_dwa,dodaj_trzy,dodaj_cztery]  #funkcje można wkładać w listy\n",
        "\n",
        "jakis_nr= 10\n",
        "\n",
        "for funkcja in funkcje:\n",
        "    print(funkcja(jakis_nr))"
      ],
      "execution_count": null,
      "outputs": [
        {
          "output_type": "stream",
          "text": [
            "12\n",
            "13\n",
            "14\n"
          ],
          "name": "stdout"
        }
      ]
    },
    {
      "cell_type": "code",
      "metadata": {
        "id": "_CXSWkmcjlr7",
        "outputId": "c7e8155b-7f37-4180-a13a-b4f4125be41f"
      },
      "source": [
        "studenci[0]\n",
        "studenci[1:]\n",
        "studenci[:-1]"
      ],
      "execution_count": null,
      "outputs": [
        {
          "output_type": "execute_result",
          "data": {
            "text/plain": [
              "['Ania', 'Zosia', 'Kasia']"
            ]
          },
          "metadata": {
            "tags": []
          },
          "execution_count": 35
        }
      ]
    },
    {
      "cell_type": "code",
      "metadata": {
        "id": "UcQ2VM32jlr9"
      },
      "source": [
        "#### challenge 0.1\n",
        "\n",
        "zajecia = [\"wf\",\"informatyka\",\"relax\",\"mispy\",\"piateczek\"]\n",
        "\n",
        "dnityg= [\"Pon\",\"Wto\",\"Sro\",\"Czwar\",\"Pio\"]\n",
        "\n",
        "# wyprintuj zajecia od srody do piatku\n",
        "# wyprintuj zajecia oprocz srody"
      ],
      "execution_count": 2,
      "outputs": []
    },
    {
      "cell_type": "code",
      "metadata": {
        "id": "gp1fWLC1jlsA",
        "outputId": "ba4ae31e-7864-4b17-e8d6-4763a741636e",
        "colab": {
          "base_uri": "https://localhost:8080/"
        }
      },
      "source": [
        "plan = zip(dnityg, zajecia)\n",
        "\n",
        "for numer, (dzien, lekcja) in enumerate(plan):\n",
        "    if numer > 1:\n",
        "        print(dzien, lekcja)\n",
        "\n",
        "print(\"\\n\")\n",
        "        \n",
        "for (dzien, lekcja) in zip(dnityg, zajecia):\n",
        "    if dzien != \"Sro\":\n",
        "        print(dzien, lekcja)"
      ],
      "execution_count": 3,
      "outputs": [
        {
          "output_type": "stream",
          "text": [
            "Sro relax\n",
            "Czwar mispy\n",
            "Pio piateczek\n",
            "\n",
            "\n",
            "Pon wf\n",
            "Wto informatyka\n",
            "Czwar mispy\n",
            "Pio piateczek\n"
          ],
          "name": "stdout"
        }
      ]
    },
    {
      "cell_type": "code",
      "metadata": {
        "id": "8oS7Z8K-jlsC"
      },
      "source": [
        "#### challenge 0.2\n",
        "\n",
        "zajecia = [[\"wf\"],\n",
        "           [\"informatyka\", \"nauka czytania\"],\n",
        "           [\"relax\", \"jedzenie\", \"cokolwiek\"],\n",
        "           [\"mispy\",\"mispy w domu\"],\n",
        "           [\"piateczek\", \"praca domowa z mispow\", \"Ilovemispy\", \"mispy w czasie snu\"]\n",
        "          ]\n",
        "\n",
        "dnityg= [\"Pon\",\"Wto\",\"Sro\",\"Czwar\",\"Pio\"]\n",
        "\n",
        "# zdefiniuj funkcje ktora poda ile jest zajec danego dnia\n",
        "# lista_zajec_z_dnia -> ile ich jest\n",
        "\n",
        "# po\n",
        "# posortuj dni po najbardziej zajetych\n",
        "\n",
        "\n",
        "#### challenge 0.3\n",
        "\n",
        "# napisz program ktory znajdzie dzien z najwieksza iloscia mispow"
      ],
      "execution_count": 4,
      "outputs": []
    },
    {
      "cell_type": "code",
      "metadata": {
        "id": "2ajQeuZYjlsF",
        "outputId": "c732b0f9-1ebe-452e-db51-2af6168577c5",
        "colab": {
          "base_uri": "https://localhost:8080/"
        }
      },
      "source": [
        "#### challene 0.2 \n",
        "def lista_zajec_z_dnia(dzien):\n",
        "    ind = dnityg.index(dzien)\n",
        "    return len(zajecia[ind])\n",
        "\n",
        "print(\"Ilość zajęć w wybranym dniu: {}\".format(lista_zajec_z_dnia(\"Sro\")))\n",
        "\n",
        "\n",
        "sortowanie = []\n",
        "for numer, dzien in enumerate(dnityg):\n",
        "    ile_zajec = lista_zajec_z_dnia(dzien)\n",
        "    sortowanie.append([dnityg[numer], ile_zajec])\n",
        "    \n",
        "def kluczSortowania(element):\n",
        "    return int(element[1])    #wartość w pierwszej kolumnie elementu (element jest wierszem listy podanej do sorted)\n",
        "    \n",
        "print(\"Dni posortowane po ilości zajęć:\")\n",
        "print(sorted(sortowanie, key = kluczSortowania))   #indeksuje tablicę sortowanie wybierając z niej po kolei elementy (wiersze)\n",
        "                                                   #ustawia w kolejności wskazywanej przez key"
      ],
      "execution_count": 10,
      "outputs": [
        {
          "output_type": "stream",
          "text": [
            "Ilość zajęć w wybranym dniu: 3\n",
            "Dni posortowane po ilości zajęć:\n",
            "[['Pon', 1], ['Wto', 2], ['Czwar', 2], ['Sro', 3], ['Pio', 4]]\n"
          ],
          "name": "stdout"
        }
      ]
    },
    {
      "cell_type": "code",
      "metadata": {
        "id": "-CtHmQwWjlsI",
        "outputId": "b32abb5d-c4f1-45d9-a764-3bc2f555c9e2",
        "colab": {
          "base_uri": "https://localhost:8080/"
        }
      },
      "source": [
        "#### challenge 0.3\n",
        "import regex as re\n",
        "\n",
        "\n",
        "mispy_w_dniu = [0,0,0,0,0]\n",
        "for numer_dnia, (dzien, lista_zajec) in enumerate(zip(dnityg, zajecia)):\n",
        "    for numer_lekcji, lekcja in enumerate(lista_zajec):\n",
        "        if re.search(\"misp\", lekcja):\n",
        "            mispy_w_dniu[numer_dnia] += 1\n",
        "\n",
        "index_max = mispy_w_dniu.index(max(mispy_w_dniu))\n",
        "\n",
        "print(\"Najwięcej mispów jest w {}.\".format(dnityg[index_max]))\n",
        "        "
      ],
      "execution_count": 11,
      "outputs": [
        {
          "output_type": "stream",
          "text": [
            "Najwięcej mispów jest w Pio.\n"
          ],
          "name": "stdout"
        }
      ]
    },
    {
      "cell_type": "code",
      "metadata": {
        "id": "6cGLoROrjlsK",
        "outputId": "2a74b792-bfc5-4345-9621-547f79f02ff7"
      },
      "source": [
        "import regex as re  #importowanie biblioteki regex\n",
        "print(re.search(\"misp\", zajecia[4][2]))"
      ],
      "execution_count": null,
      "outputs": [
        {
          "output_type": "stream",
          "text": [
            "<regex.Match object; span=(5, 9), match='misp'>\n"
          ],
          "name": "stdout"
        }
      ]
    },
    {
      "cell_type": "code",
      "metadata": {
        "id": "N05bUGVJjlsM",
        "outputId": "b2bae88f-addb-497d-a1f7-f4f61ae4feb6"
      },
      "source": [
        "len(zajecia)\n",
        "\n",
        "zajecia[4][1]\n",
        "\n",
        "\"Ma\" in \"MojaMaMa\"\n",
        "\n",
        "liczby=[\"22\",\"11\",\"33\",\"100\"]\n",
        "liczby_i_nazwy= [(\"22\",\"dwadziescia dwa\"),\n",
        "                 (\"11\",\"jedenascie\"),\n",
        "        (\"33\",\"trzydziesci trzy\"),(\"100\",\"sto\")]\n",
        "sorted(liczby)\n",
        "\n",
        "sorted(liczby, key=int)\n",
        "\n",
        "liczby_kolejnosc= enumerate(liczby)\n",
        "\n",
        "def czy_jest_jeden(liczba):\n",
        "\n",
        "    if \"1\" in liczba:\n",
        "        return 1\n",
        "    else:\n",
        "        return 0\n",
        "def na_liczbe(krotka):\n",
        "         return int(krotka[0])\n",
        "def na_liczbe_index(krotka):\n",
        "         return int(krotka[1])    \n",
        "sorted(liczby, key=czy_jest_jeden)\n",
        "         \n",
        "sorted(liczby_i_nazwy,key=na_liczbe)\n",
        "\n",
        "sorted(liczby_kolejnosc,key=na_liczbe_index)"
      ],
      "execution_count": null,
      "outputs": [
        {
          "output_type": "stream",
          "text": [
            "['11', '22', '33', '100']\n"
          ],
          "name": "stdout"
        },
        {
          "output_type": "execute_result",
          "data": {
            "text/plain": [
              "[(1, '11'), (0, '22'), (2, '33'), (3, '100')]"
            ]
          },
          "metadata": {
            "tags": []
          },
          "execution_count": 87
        }
      ]
    },
    {
      "cell_type": "code",
      "metadata": {
        "id": "JI5EbAEljlsR",
        "outputId": "3ec8ae37-3a17-413e-c5cd-87fa2468256c"
      },
      "source": [
        "sorted(liczby_kolejnosc,key=)"
      ],
      "execution_count": null,
      "outputs": [
        {
          "output_type": "execute_result",
          "data": {
            "text/plain": [
              "<enumerate at 0x7f5efea012d0>"
            ]
          },
          "metadata": {
            "tags": []
          },
          "execution_count": 48
        }
      ]
    },
    {
      "cell_type": "code",
      "metadata": {
        "id": "t3inDiKtjlsT"
      },
      "source": [
        ""
      ],
      "execution_count": null,
      "outputs": []
    }
  ]
}